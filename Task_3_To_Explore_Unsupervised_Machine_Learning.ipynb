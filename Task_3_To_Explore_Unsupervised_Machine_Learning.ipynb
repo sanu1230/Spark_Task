{
  "nbformat": 4,
  "nbformat_minor": 0,
  "metadata": {
    "colab": {
      "name": "Task # 3 - To Explore Unsupervised Machine Learning",
      "provenance": [],
      "collapsed_sections": [],
      "authorship_tag": "ABX9TyOdrDsjaNIuqv48Tu2NB060",
      "include_colab_link": true
    },
    "kernelspec": {
      "name": "python3",
      "display_name": "Python 3"
    }
  },
  "cells": [
    {
      "cell_type": "markdown",
      "metadata": {
        "id": "view-in-github",
        "colab_type": "text"
      },
      "source": [
        "<a href=\"https://colab.research.google.com/github/sanu1230/Spark_Task/blob/master/Task_3_To_Explore_Unsupervised_Machine_Learning.ipynb\" target=\"_parent\"><img src=\"https://colab.research.google.com/assets/colab-badge.svg\" alt=\"Open In Colab\"/></a>"
      ]
    },
    {
      "cell_type": "markdown",
      "metadata": {
        "id": "fUG-FHTfqNr_",
        "colab_type": "text"
      },
      "source": [
        "#Task # 3 - To Explore Unsupervised Machine Learning"
      ]
    },
    {
      "cell_type": "markdown",
      "metadata": {
        "id": "El_tkuRxrE5y",
        "colab_type": "text"
      },
      "source": [
        "#Iris Data Analysis with K-mean clustering"
      ]
    },
    {
      "cell_type": "markdown",
      "metadata": {
        "id": "5uhX0t2nq4sw",
        "colab_type": "text"
      },
      "source": [
        "**Objective:**\n",
        "\n",
        "From the given ‘Iris’ dataset, predict the optimum number of\n",
        "clusters and represent it visually."
      ]
    },
    {
      "cell_type": "code",
      "metadata": {
        "id": "x5oDGcxEqH_N",
        "colab_type": "code",
        "colab": {}
      },
      "source": [
        "# Importing the libraries\n",
        "import numpy as np\n",
        "import matplotlib.pyplot as plt\n",
        "import pandas as pd\n",
        "from sklearn import datasets\n"
      ],
      "execution_count": null,
      "outputs": []
    },
    {
      "cell_type": "code",
      "metadata": {
        "id": "M07hE2MeretG",
        "colab_type": "code",
        "colab": {
          "base_uri": "https://localhost:8080/",
          "height": 34
        },
        "outputId": "afcff233-97f7-49e6-b9fa-f667d99e14b9"
      },
      "source": [
        "from google.colab import drive\n",
        "drive.mount('/content/drive')"
      ],
      "execution_count": null,
      "outputs": [
        {
          "output_type": "stream",
          "text": [
            "Drive already mounted at /content/drive; to attempt to forcibly remount, call drive.mount(\"/content/drive\", force_remount=True).\n"
          ],
          "name": "stdout"
        }
      ]
    },
    {
      "cell_type": "markdown",
      "metadata": {
        "id": "BIPciYurtCQp",
        "colab_type": "text"
      },
      "source": [
        "## Loading Dataset"
      ]
    },
    {
      "cell_type": "code",
      "metadata": {
        "id": "R0gjYLR7q3dw",
        "colab_type": "code",
        "colab": {
          "base_uri": "https://localhost:8080/",
          "height": 195
        },
        "outputId": "20e068b0-ea25-4cc1-c52a-05ebc4297779"
      },
      "source": [
        "# Load the iris dataset\n",
        "\n",
        "df_iris = pd.read_csv('/content/drive/My Drive/Colab Notebooks/Sparks/Iris.csv')\n",
        "df_iris.head()"
      ],
      "execution_count": null,
      "outputs": [
        {
          "output_type": "execute_result",
          "data": {
            "text/html": [
              "<div>\n",
              "<style scoped>\n",
              "    .dataframe tbody tr th:only-of-type {\n",
              "        vertical-align: middle;\n",
              "    }\n",
              "\n",
              "    .dataframe tbody tr th {\n",
              "        vertical-align: top;\n",
              "    }\n",
              "\n",
              "    .dataframe thead th {\n",
              "        text-align: right;\n",
              "    }\n",
              "</style>\n",
              "<table border=\"1\" class=\"dataframe\">\n",
              "  <thead>\n",
              "    <tr style=\"text-align: right;\">\n",
              "      <th></th>\n",
              "      <th>Id</th>\n",
              "      <th>SepalLengthCm</th>\n",
              "      <th>SepalWidthCm</th>\n",
              "      <th>PetalLengthCm</th>\n",
              "      <th>PetalWidthCm</th>\n",
              "      <th>Species</th>\n",
              "    </tr>\n",
              "  </thead>\n",
              "  <tbody>\n",
              "    <tr>\n",
              "      <th>0</th>\n",
              "      <td>1</td>\n",
              "      <td>5.1</td>\n",
              "      <td>3.5</td>\n",
              "      <td>1.4</td>\n",
              "      <td>0.2</td>\n",
              "      <td>Iris-setosa</td>\n",
              "    </tr>\n",
              "    <tr>\n",
              "      <th>1</th>\n",
              "      <td>2</td>\n",
              "      <td>4.9</td>\n",
              "      <td>3.0</td>\n",
              "      <td>1.4</td>\n",
              "      <td>0.2</td>\n",
              "      <td>Iris-setosa</td>\n",
              "    </tr>\n",
              "    <tr>\n",
              "      <th>2</th>\n",
              "      <td>3</td>\n",
              "      <td>4.7</td>\n",
              "      <td>3.2</td>\n",
              "      <td>1.3</td>\n",
              "      <td>0.2</td>\n",
              "      <td>Iris-setosa</td>\n",
              "    </tr>\n",
              "    <tr>\n",
              "      <th>3</th>\n",
              "      <td>4</td>\n",
              "      <td>4.6</td>\n",
              "      <td>3.1</td>\n",
              "      <td>1.5</td>\n",
              "      <td>0.2</td>\n",
              "      <td>Iris-setosa</td>\n",
              "    </tr>\n",
              "    <tr>\n",
              "      <th>4</th>\n",
              "      <td>5</td>\n",
              "      <td>5.0</td>\n",
              "      <td>3.6</td>\n",
              "      <td>1.4</td>\n",
              "      <td>0.2</td>\n",
              "      <td>Iris-setosa</td>\n",
              "    </tr>\n",
              "  </tbody>\n",
              "</table>\n",
              "</div>"
            ],
            "text/plain": [
              "   Id  SepalLengthCm  SepalWidthCm  PetalLengthCm  PetalWidthCm      Species\n",
              "0   1            5.1           3.5            1.4           0.2  Iris-setosa\n",
              "1   2            4.9           3.0            1.4           0.2  Iris-setosa\n",
              "2   3            4.7           3.2            1.3           0.2  Iris-setosa\n",
              "3   4            4.6           3.1            1.5           0.2  Iris-setosa\n",
              "4   5            5.0           3.6            1.4           0.2  Iris-setosa"
            ]
          },
          "metadata": {
            "tags": []
          },
          "execution_count": 3
        }
      ]
    },
    {
      "cell_type": "markdown",
      "metadata": {
        "id": "cvA9V5TGubfm",
        "colab_type": "text"
      },
      "source": [
        "## Understanding Dataset"
      ]
    },
    {
      "cell_type": "code",
      "metadata": {
        "id": "HfLCS99kuMzT",
        "colab_type": "code",
        "colab": {
          "base_uri": "https://localhost:8080/",
          "height": 34
        },
        "outputId": "ce7f66bd-a84d-451f-ff2a-5e0fbdf82901"
      },
      "source": [
        "df_iris.shape"
      ],
      "execution_count": null,
      "outputs": [
        {
          "output_type": "execute_result",
          "data": {
            "text/plain": [
              "(150, 6)"
            ]
          },
          "metadata": {
            "tags": []
          },
          "execution_count": 4
        }
      ]
    },
    {
      "cell_type": "code",
      "metadata": {
        "id": "2KMby6VluNVv",
        "colab_type": "code",
        "colab": {
          "base_uri": "https://localhost:8080/",
          "height": 235
        },
        "outputId": "cecb1bb4-5dec-45d9-f668-47f51cba325b"
      },
      "source": [
        "df_iris.info()"
      ],
      "execution_count": null,
      "outputs": [
        {
          "output_type": "stream",
          "text": [
            "<class 'pandas.core.frame.DataFrame'>\n",
            "RangeIndex: 150 entries, 0 to 149\n",
            "Data columns (total 6 columns):\n",
            " #   Column         Non-Null Count  Dtype  \n",
            "---  ------         --------------  -----  \n",
            " 0   Id             150 non-null    int64  \n",
            " 1   SepalLengthCm  150 non-null    float64\n",
            " 2   SepalWidthCm   150 non-null    float64\n",
            " 3   PetalLengthCm  150 non-null    float64\n",
            " 4   PetalWidthCm   150 non-null    float64\n",
            " 5   Species        150 non-null    object \n",
            "dtypes: float64(4), int64(1), object(1)\n",
            "memory usage: 7.2+ KB\n"
          ],
          "name": "stdout"
        }
      ]
    },
    {
      "cell_type": "code",
      "metadata": {
        "id": "9Ff3uUsruNaF",
        "colab_type": "code",
        "colab": {
          "base_uri": "https://localhost:8080/",
          "height": 284
        },
        "outputId": "89406ac1-5f43-4051-d082-589e60d5f6c7"
      },
      "source": [
        "df_iris.describe()"
      ],
      "execution_count": null,
      "outputs": [
        {
          "output_type": "execute_result",
          "data": {
            "text/html": [
              "<div>\n",
              "<style scoped>\n",
              "    .dataframe tbody tr th:only-of-type {\n",
              "        vertical-align: middle;\n",
              "    }\n",
              "\n",
              "    .dataframe tbody tr th {\n",
              "        vertical-align: top;\n",
              "    }\n",
              "\n",
              "    .dataframe thead th {\n",
              "        text-align: right;\n",
              "    }\n",
              "</style>\n",
              "<table border=\"1\" class=\"dataframe\">\n",
              "  <thead>\n",
              "    <tr style=\"text-align: right;\">\n",
              "      <th></th>\n",
              "      <th>Id</th>\n",
              "      <th>SepalLengthCm</th>\n",
              "      <th>SepalWidthCm</th>\n",
              "      <th>PetalLengthCm</th>\n",
              "      <th>PetalWidthCm</th>\n",
              "    </tr>\n",
              "  </thead>\n",
              "  <tbody>\n",
              "    <tr>\n",
              "      <th>count</th>\n",
              "      <td>150.000000</td>\n",
              "      <td>150.000000</td>\n",
              "      <td>150.000000</td>\n",
              "      <td>150.000000</td>\n",
              "      <td>150.000000</td>\n",
              "    </tr>\n",
              "    <tr>\n",
              "      <th>mean</th>\n",
              "      <td>75.500000</td>\n",
              "      <td>5.843333</td>\n",
              "      <td>3.054000</td>\n",
              "      <td>3.758667</td>\n",
              "      <td>1.198667</td>\n",
              "    </tr>\n",
              "    <tr>\n",
              "      <th>std</th>\n",
              "      <td>43.445368</td>\n",
              "      <td>0.828066</td>\n",
              "      <td>0.433594</td>\n",
              "      <td>1.764420</td>\n",
              "      <td>0.763161</td>\n",
              "    </tr>\n",
              "    <tr>\n",
              "      <th>min</th>\n",
              "      <td>1.000000</td>\n",
              "      <td>4.300000</td>\n",
              "      <td>2.000000</td>\n",
              "      <td>1.000000</td>\n",
              "      <td>0.100000</td>\n",
              "    </tr>\n",
              "    <tr>\n",
              "      <th>25%</th>\n",
              "      <td>38.250000</td>\n",
              "      <td>5.100000</td>\n",
              "      <td>2.800000</td>\n",
              "      <td>1.600000</td>\n",
              "      <td>0.300000</td>\n",
              "    </tr>\n",
              "    <tr>\n",
              "      <th>50%</th>\n",
              "      <td>75.500000</td>\n",
              "      <td>5.800000</td>\n",
              "      <td>3.000000</td>\n",
              "      <td>4.350000</td>\n",
              "      <td>1.300000</td>\n",
              "    </tr>\n",
              "    <tr>\n",
              "      <th>75%</th>\n",
              "      <td>112.750000</td>\n",
              "      <td>6.400000</td>\n",
              "      <td>3.300000</td>\n",
              "      <td>5.100000</td>\n",
              "      <td>1.800000</td>\n",
              "    </tr>\n",
              "    <tr>\n",
              "      <th>max</th>\n",
              "      <td>150.000000</td>\n",
              "      <td>7.900000</td>\n",
              "      <td>4.400000</td>\n",
              "      <td>6.900000</td>\n",
              "      <td>2.500000</td>\n",
              "    </tr>\n",
              "  </tbody>\n",
              "</table>\n",
              "</div>"
            ],
            "text/plain": [
              "               Id  SepalLengthCm  SepalWidthCm  PetalLengthCm  PetalWidthCm\n",
              "count  150.000000     150.000000    150.000000     150.000000    150.000000\n",
              "mean    75.500000       5.843333      3.054000       3.758667      1.198667\n",
              "std     43.445368       0.828066      0.433594       1.764420      0.763161\n",
              "min      1.000000       4.300000      2.000000       1.000000      0.100000\n",
              "25%     38.250000       5.100000      2.800000       1.600000      0.300000\n",
              "50%     75.500000       5.800000      3.000000       4.350000      1.300000\n",
              "75%    112.750000       6.400000      3.300000       5.100000      1.800000\n",
              "max    150.000000       7.900000      4.400000       6.900000      2.500000"
            ]
          },
          "metadata": {
            "tags": []
          },
          "execution_count": 6
        }
      ]
    },
    {
      "cell_type": "code",
      "metadata": {
        "id": "9vOyn0lFuNS-",
        "colab_type": "code",
        "colab": {
          "base_uri": "https://localhost:8080/",
          "height": 141
        },
        "outputId": "d8359e4c-079d-44f5-de71-16b7dda62d29"
      },
      "source": [
        "df_iris.isna().sum()"
      ],
      "execution_count": null,
      "outputs": [
        {
          "output_type": "execute_result",
          "data": {
            "text/plain": [
              "Id               0\n",
              "SepalLengthCm    0\n",
              "SepalWidthCm     0\n",
              "PetalLengthCm    0\n",
              "PetalWidthCm     0\n",
              "Species          0\n",
              "dtype: int64"
            ]
          },
          "metadata": {
            "tags": []
          },
          "execution_count": 7
        }
      ]
    },
    {
      "cell_type": "markdown",
      "metadata": {
        "id": "PqHoC4Kmtbqv",
        "colab_type": "text"
      },
      "source": [
        "## Preparing Data"
      ]
    },
    {
      "cell_type": "code",
      "metadata": {
        "id": "CPTim8qZst8H",
        "colab_type": "code",
        "colab": {
          "base_uri": "https://localhost:8080/",
          "height": 35
        },
        "outputId": "7ab66085-acd1-4327-b062-afb83424a42f"
      },
      "source": [
        "# Lets Drop Id column as it is irrelavent\n",
        "df_iris = df_iris.drop('Id', 1)\n",
        "df_iris.shape"
      ],
      "execution_count": null,
      "outputs": [
        {
          "output_type": "execute_result",
          "data": {
            "text/plain": [
              "(150, 5)"
            ]
          },
          "metadata": {
            "tags": []
          },
          "execution_count": 8
        }
      ]
    },
    {
      "cell_type": "code",
      "metadata": {
        "id": "Nhr722OBttEu",
        "colab_type": "code",
        "colab": {
          "base_uri": "https://localhost:8080/",
          "height": 35
        },
        "outputId": "f8a7c72b-a9bb-412f-c427-317ec4e91912"
      },
      "source": [
        "# Splitting data into target and labels\n",
        "X = df_iris.iloc[:, [0, 1, 2, 3]].values\n",
        "\n",
        "# X = df_iris.drop('Species', 1)\n",
        "y = df_iris['Species']\n",
        "type(X)"
      ],
      "execution_count": null,
      "outputs": [
        {
          "output_type": "execute_result",
          "data": {
            "text/plain": [
              "numpy.ndarray"
            ]
          },
          "metadata": {
            "tags": []
          },
          "execution_count": 62
        }
      ]
    },
    {
      "cell_type": "markdown",
      "metadata": {
        "id": "ogPWRracvQkS",
        "colab_type": "text"
      },
      "source": [
        "# Finding Clusters with PCA manual"
      ]
    },
    {
      "cell_type": "code",
      "metadata": {
        "id": "KaD5pZvAu17r",
        "colab_type": "code",
        "colab": {
          "base_uri": "https://localhost:8080/",
          "height": 359
        },
        "outputId": "57be53d6-53dd-4282-f66a-544a04d767bf"
      },
      "source": [
        "# Finding the optimum number of clusters for k-means classification\n",
        "\n",
        "from sklearn.cluster import KMeans\n",
        "\n",
        "km_inertia = []\n",
        "\n",
        "for i in range(1, 11):\n",
        "    kmeans = KMeans(n_clusters = i, init = 'k-means++', \n",
        "                    max_iter = 300, n_init = 10, random_state = 0)\n",
        "    kmeans.fit(X)\n",
        "    km_inertia.append(kmeans.inertia_)\n",
        "    \n",
        "# Plotting the results onto a line graph, allowing us to observe 'The elbow'\n",
        "\n",
        "plt.figure(figsize=(10, 5))\n",
        "plt.plot(range(1, 11), km_inertia)\n",
        "plt.title('The elbow method', fontsize=20)\n",
        "plt.xlabel('Number of clusters', fontsize=14)\n",
        "plt.ylabel('km_inertia', fontsize=14) # Within cluster sum of squares\n",
        "plt.show()"
      ],
      "execution_count": null,
      "outputs": [
        {
          "output_type": "display_data",
          "data": {
            "image/png": "[encoded data removed]",
            "text/plain": [
              "<Figure size 720x360 with 1 Axes>"
            ]
          },
          "metadata": {
            "tags": [],
            "needs_background": "light"
          }
        }
      ]
    },
    {
      "cell_type": "markdown",
      "metadata": {
        "id": "-AR7FRIN0vrw",
        "colab_type": "text"
      },
      "source": [
        "**Observation** : Fromt the above graph we see that the elbow or the steep trun is at cluster number 3, Lets use the same to train the model"
      ]
    },
    {
      "cell_type": "code",
      "metadata": {
        "id": "rwSX-TQsx_jX",
        "colab_type": "code",
        "colab": {}
      },
      "source": [
        "# Applying kmeans to the dataset / Creating the kmeans classifier\n",
        "kmeans = KMeans(n_clusters = 3, init = 'k-means++', max_iter = 300, n_init = 10, random_state = 0)\n",
        "y_kmeans = kmeans.fit_predict(X)"
      ],
      "execution_count": null,
      "outputs": []
    },
    {
      "cell_type": "markdown",
      "metadata": {
        "id": "hkIXTex01TzC",
        "colab_type": "text"
      },
      "source": [
        "## Visualizing the Clusters"
      ]
    },
    {
      "cell_type": "code",
      "metadata": {
        "id": "sENtC4xI1JdN",
        "colab_type": "code",
        "colab": {
          "base_uri": "https://localhost:8080/",
          "height": 394
        },
        "outputId": "74af9963-4080-40c0-b2e4-1ecebfb8134a"
      },
      "source": [
        "# Visualising the clusters - On the first two columns\n",
        "plt.figure(figsize=(10, 6))\n",
        "plt.scatter(X[y_kmeans == 0, 0], X[y_kmeans == 0, 1], s = 100, c = 'red', label = 'Iris-setosa')\n",
        "plt.scatter(X[y_kmeans == 1, 0], X[y_kmeans == 1, 1], s = 100, c = 'blue', label = 'Iris-versicolour')\n",
        "plt.scatter(X[y_kmeans == 2, 0], X[y_kmeans == 2, 1], s = 100, c = 'green', label = 'Iris-virginica')\n",
        "\n",
        "# Plotting the centroids of the clusters\n",
        "plt.scatter(kmeans.cluster_centers_[:, 0], kmeans.cluster_centers_[:, 1], s = 100, c = 'yellow', label = 'Centroids')\n",
        "\n",
        "plt.legend()"
      ],
      "execution_count": null,
      "outputs": [
        {
          "output_type": "execute_result",
          "data": {
            "text/plain": [
              "<matplotlib.legend.Legend at 0x7fc77c0a0160>"
            ]
          },
          "metadata": {
            "tags": []
          },
          "execution_count": 67
        },
        {
          "output_type": "display_data",
          "data": {
            "image/png": "[encoded data removed]",
            "text/plain": [
              "<Figure size 720x432 with 1 Axes>"
            ]
          },
          "metadata": {
            "tags": [],
            "needs_background": "light"
          }
        }
      ]
    },
    {
      "cell_type": "markdown",
      "metadata": {
        "id": "gR34-8XTa-6x",
        "colab_type": "text"
      },
      "source": [
        "## To find n_components of PCA"
      ]
    },
    {
      "cell_type": "code",
      "metadata": {
        "id": "bpt026XKJClH",
        "colab_type": "code",
        "colab": {
          "base_uri": "https://localhost:8080/",
          "height": 88
        },
        "outputId": "4ecfc04b-542b-4578-b1cf-8cad40347d62"
      },
      "source": [
        "# Finding Covariance matrix\n",
        "X_cov_matrix = np.cov(X.T)\n",
        "X_cov_matrix"
      ],
      "execution_count": null,
      "outputs": [
        {
          "output_type": "execute_result",
          "data": {
            "text/plain": [
              "array([[ 0.68569351, -0.03926846,  1.27368233,  0.5169038 ],\n",
              "       [-0.03926846,  0.18800403, -0.32171275, -0.11798121],\n",
              "       [ 1.27368233, -0.32171275,  3.11317942,  1.29638747],\n",
              "       [ 0.5169038 , -0.11798121,  1.29638747,  0.58241432]])"
            ]
          },
          "metadata": {
            "tags": []
          },
          "execution_count": 76
        }
      ]
    },
    {
      "cell_type": "code",
      "metadata": {
        "id": "IOLE7-3RKp2U",
        "colab_type": "code",
        "colab": {
          "base_uri": "https://localhost:8080/",
          "height": 159
        },
        "outputId": "2ceea159-5a3d-4bdb-d287-f2956f151bab"
      },
      "source": [
        "# Finding Eigen values and Vectors\n",
        "eig_vals, eig_vecs = np.linalg.eig(X_cov_matrix)\n",
        "print('EigenVectors \\n %s' %eig_vecs)\n",
        "print('\\nEigenValues \\n %s' %eig_vals)"
      ],
      "execution_count": null,
      "outputs": [
        {
          "output_type": "stream",
          "text": [
            "EigenVectors \n",
            " [[ 0.36158968 -0.65653988 -0.58099728  0.31725455]\n",
            " [-0.08226889 -0.72971237  0.59641809 -0.32409435]\n",
            " [ 0.85657211  0.1757674   0.07252408 -0.47971899]\n",
            " [ 0.35884393  0.07470647  0.54906091  0.75112056]]\n",
            "\n",
            "EigenValues \n",
            " [4.22484077 0.24224357 0.07852391 0.02368303]\n"
          ],
          "name": "stdout"
        }
      ]
    },
    {
      "cell_type": "code",
      "metadata": {
        "id": "L3X4kyIALR3g",
        "colab_type": "code",
        "colab": {
          "base_uri": "https://localhost:8080/",
          "height": 106
        },
        "outputId": "d430852a-575e-49a9-b957-2f49c074a1d5"
      },
      "source": [
        "# Making list of (eigenvalues, eigenvectors) tuples\n",
        "eig_pairs = [(np.abs(eig_vals[i]), eig_vecs[:, i])for i in range(len(eig_vals))]\n",
        "\n",
        "# Soting the (eigenvalues, eigenvectors) tuples from high to low\n",
        "eig_pairs.sort(key=lambda x: x[0], reverse=True)\n",
        "\n",
        "# Visualizing the list sorted by decereasing eigen values\n",
        "print('Eigen values in decending order:')\n",
        "\n",
        "for i in eig_pairs:\n",
        "  print(i[0])\n"
      ],
      "execution_count": null,
      "outputs": [
        {
          "output_type": "stream",
          "text": [
            "Eigen values in decending order:\n",
            "4.22484076832011\n",
            "0.24224357162751517\n",
            "0.07852390809415456\n",
            "0.023683027126001576\n"
          ],
          "name": "stdout"
        }
      ]
    },
    {
      "cell_type": "code",
      "metadata": {
        "id": "NM3K2OakMxe6",
        "colab_type": "code",
        "colab": {
          "base_uri": "https://localhost:8080/",
          "height": 35
        },
        "outputId": "e3c9eaa0-4a7d-4122-b79a-e68dfbc1de22"
      },
      "source": [
        "# Finding total of eigen value and calculating variance explained\n",
        "tot = sum(eig_vals)\n",
        "var_exp = [(i / tot)*100 for i in sorted(eig_vals, reverse=True)]\n",
        "var_exp"
      ],
      "execution_count": null,
      "outputs": [
        {
          "output_type": "execute_result",
          "data": {
            "text/plain": [
              "[92.46162071742683, 5.301556785053501, 1.71851395250068, 0.5183085450189855]"
            ]
          },
          "metadata": {
            "tags": []
          },
          "execution_count": 81
        }
      ]
    },
    {
      "cell_type": "code",
      "metadata": {
        "id": "a0zRMWs2Mj5i",
        "colab_type": "code",
        "colab": {
          "base_uri": "https://localhost:8080/",
          "height": 106
        },
        "outputId": "4f0d8ead-fc4f-4584-c960-b1e2d96ecb9c"
      },
      "source": [
        "# Finding Cumulative Variance explained\n",
        "cum_var_exp = np.cumsum(var_exp)\n",
        "print(\"Variance captured by each component is \\n\" , var_exp)\n",
        "print(40 * \"-\")\n",
        "print(\"Cumulative variance captured as we travel each component: \\n\" , cum_var_exp)"
      ],
      "execution_count": null,
      "outputs": [
        {
          "output_type": "stream",
          "text": [
            "Variance captured by each component is \n",
            " [92.46162071742683, 5.301556785053501, 1.71851395250068, 0.5183085450189855]\n",
            "----------------------------------------\n",
            "Cumulative variance captured as we travel each component: \n",
            " [ 92.46162072  97.7631775   99.48169145 100.        ]\n"
          ],
          "name": "stdout"
        }
      ]
    },
    {
      "cell_type": "code",
      "metadata": {
        "id": "yessHqoNM6ej",
        "colab_type": "code",
        "colab": {
          "base_uri": "https://localhost:8080/",
          "height": 284
        },
        "outputId": "e660ea88-bb07-4477-dcc4-5101c73fdd3a"
      },
      "source": [
        "import pprint\n",
        "print('All Eigen values along with Eigen vectors')\n",
        "pprint.pprint(eig_pairs)\n",
        "print(40 * '-')\n",
        "matrix_w = np.hstack((eig_pairs[0][1].reshape(4, 1), \n",
        "                      eig_pairs[1][1].reshape(4, 1)))\n",
        "\n",
        "print('Matrix W:\\n', matrix_w)"
      ],
      "execution_count": null,
      "outputs": [
        {
          "output_type": "stream",
          "text": [
            "All Eigen values along with Eigen vectors\n",
            "[(4.22484076832011,\n",
            "  array([ 0.36158968, -0.08226889,  0.85657211,  0.35884393])),\n",
            " (0.24224357162751517,\n",
            "  array([-0.65653988, -0.72971237,  0.1757674 ,  0.07470647])),\n",
            " (0.07852390809415456,\n",
            "  array([-0.58099728,  0.59641809,  0.07252408,  0.54906091])),\n",
            " (0.023683027126001576,\n",
            "  array([ 0.31725455, -0.32409435, -0.47971899,  0.75112056]))]\n",
            "----------------------------------------\n",
            "Matrix W:\n",
            " [[ 0.36158968 -0.65653988]\n",
            " [-0.08226889 -0.72971237]\n",
            " [ 0.85657211  0.1757674 ]\n",
            " [ 0.35884393  0.07470647]]\n"
          ],
          "name": "stdout"
        }
      ]
    },
    {
      "cell_type": "markdown",
      "metadata": {
        "id": "ft9ywcpVrdmJ",
        "colab_type": "text"
      },
      "source": [
        "**Observation:** The above results shows that the first two components in the array make upto 97% of the principle components. Hence, PCA n_components can be used as 2"
      ]
    },
    {
      "cell_type": "code",
      "metadata": {
        "id": "GXtJZBxJjSCM",
        "colab_type": "code",
        "colab": {
          "base_uri": "https://localhost:8080/",
          "height": 106
        },
        "outputId": "8e7d419e-5348-467b-d028-63915f162aa4"
      },
      "source": [
        "Y = X.dot(matrix_w)\n",
        "Y[:5]"
      ],
      "execution_count": null,
      "outputs": [
        {
          "output_type": "execute_result",
          "data": {
            "text/plain": [
              "array([[ 2.82713597, -5.64133105],\n",
              "       [ 2.79595248, -5.14516688],\n",
              "       [ 2.62152356, -5.17737812],\n",
              "       [ 2.7649059 , -5.00359942],\n",
              "       [ 2.78275012, -5.64864829]])"
            ]
          },
          "metadata": {
            "tags": []
          },
          "execution_count": 87
        }
      ]
    },
    {
      "cell_type": "code",
      "metadata": {
        "id": "OkgaTnYEl-Ya",
        "colab_type": "code",
        "colab": {
          "base_uri": "https://localhost:8080/",
          "height": 35
        },
        "outputId": "7f6ad6c3-f154-4a23-8e32-aff794919852"
      },
      "source": [
        "# Label Encoding y \n",
        "from sklearn.preprocessing import LabelEncoder\n",
        "\n",
        "le = LabelEncoder()\n",
        "y_encoded = le.fit_transform(y)\n",
        "y_encoded[:5]"
      ],
      "execution_count": null,
      "outputs": [
        {
          "output_type": "execute_result",
          "data": {
            "text/plain": [
              "array([0, 0, 0, 0, 0])"
            ]
          },
          "metadata": {
            "tags": []
          },
          "execution_count": 103
        }
      ]
    },
    {
      "cell_type": "code",
      "metadata": {
        "id": "MG-zRoF4oun3",
        "colab_type": "code",
        "colab": {
          "base_uri": "https://localhost:8080/",
          "height": 35
        },
        "outputId": "e2421f7b-abd9-4b44-d2af-fcd7e3b09360"
      },
      "source": [
        "y_encoded.shape"
      ],
      "execution_count": null,
      "outputs": [
        {
          "output_type": "execute_result",
          "data": {
            "text/plain": [
              "(150,)"
            ]
          },
          "metadata": {
            "tags": []
          },
          "execution_count": 107
        }
      ]
    },
    {
      "cell_type": "code",
      "metadata": {
        "id": "olxZLoXiowtz",
        "colab_type": "code",
        "colab": {
          "base_uri": "https://localhost:8080/",
          "height": 35
        },
        "outputId": "e9061f6b-c57e-4d3e-db51-6812e678089f"
      },
      "source": [
        "Y.shape"
      ],
      "execution_count": null,
      "outputs": [
        {
          "output_type": "execute_result",
          "data": {
            "text/plain": [
              "(150, 2)"
            ]
          },
          "metadata": {
            "tags": []
          },
          "execution_count": 108
        }
      ]
    },
    {
      "cell_type": "code",
      "metadata": {
        "id": "jz9i_vs8gKt0",
        "colab_type": "code",
        "colab": {
          "base_uri": "https://localhost:8080/",
          "height": 432
        },
        "outputId": "3922f52b-1484-4702-f860-79f394b0259a"
      },
      "source": [
        "import pylab as pl\n",
        "pl.figure(figsize=(10, 6))\n",
        "target_names = y.unique()\n",
        "for c, i, target_name in zip('rbg', [0, 1, 2], target_names):\n",
        "  pl.scatter(Y[y_encoded==i, 0], Y[y_encoded==i, 1], c=c, label=target_name)\n",
        "pl.xlabel('Principle Component 1', fontsize=16)\n",
        "pl.ylabel('Principle Component 2', fontsize=16)\n",
        "pl.legend()\n",
        "pl.title('Clustering with PCA manual of IRIS Dataset', fontsize=20)"
      ],
      "execution_count": null,
      "outputs": [
        {
          "output_type": "execute_result",
          "data": {
            "text/plain": [
              "Text(0.5, 1.0, 'Clustering with PCA manual of IRIS Dataset')"
            ]
          },
          "metadata": {
            "tags": []
          },
          "execution_count": 125
        },
        {
          "output_type": "display_data",
          "data": {
            "image/png": "[encoded data removed]",
            "text/plain": [
              "<Figure size 720x432 with 1 Axes>"
            ]
          },
          "metadata": {
            "tags": [],
            "needs_background": "light"
          }
        }
      ]
    },
    {
      "cell_type": "markdown",
      "metadata": {
        "id": "NpNnxWt-u6pv",
        "colab_type": "text"
      },
      "source": [
        "# Redoing clustering with PCA function from sklearn"
      ]
    },
    {
      "cell_type": "code",
      "metadata": {
        "id": "Rp07PWC3hgFV",
        "colab_type": "code",
        "colab": {
          "base_uri": "https://localhost:8080/",
          "height": 106
        },
        "outputId": "cc2a9589-b345-415d-f87e-86026e01490a"
      },
      "source": [
        "from sklearn.decomposition import PCA\n",
        "from itertools import cycle\n",
        "\n",
        "pca = PCA(n_components=2, whiten=True)\n",
        "pca.fit(X)\n",
        "pca_X = pca.transform(X)\n",
        "pca_X[:5]"
      ],
      "execution_count": null,
      "outputs": [
        {
          "output_type": "execute_result",
          "data": {
            "text/plain": [
              "array([[-1.3059028 ,  0.66358991],\n",
              "       [-1.32107398, -0.34449998],\n",
              "       [-1.405936  , -0.27905426],\n",
              "       [-1.33617856, -0.63213207],\n",
              "       [-1.32749711,  0.67845686]])"
            ]
          },
          "metadata": {
            "tags": []
          },
          "execution_count": 120
        }
      ]
    },
    {
      "cell_type": "code",
      "metadata": {
        "id": "81UgKsHnv2Qf",
        "colab_type": "code",
        "colab": {
          "base_uri": "https://localhost:8080/",
          "height": 52
        },
        "outputId": "0da6cb8b-92a0-471b-fcae-026d7a2d19d4"
      },
      "source": [
        "# To find principle component attribute\n",
        "\n",
        "print(pca.components_)"
      ],
      "execution_count": null,
      "outputs": [
        {
          "output_type": "stream",
          "text": [
            "[[ 0.36158968 -0.08226889  0.85657211  0.35884393]\n",
            " [ 0.65653988  0.72971237 -0.1757674  -0.07470647]]\n"
          ],
          "name": "stdout"
        }
      ]
    },
    {
      "cell_type": "code",
      "metadata": {
        "id": "ZWC7Hx_lwMpJ",
        "colab_type": "code",
        "colab": {
          "base_uri": "https://localhost:8080/",
          "height": 52
        },
        "outputId": "83d39b24-974d-464f-d52f-d6fd699e4d24"
      },
      "source": [
        "print(pca.explained_variance_ratio_)\n",
        "print(sum(pca.explained_variance_ratio_))"
      ],
      "execution_count": null,
      "outputs": [
        {
          "output_type": "stream",
          "text": [
            "[0.92461621 0.05301557]\n",
            "0.9776317750248035\n"
          ],
          "name": "stdout"
        }
      ]
    },
    {
      "cell_type": "code",
      "metadata": {
        "id": "fFm5mlFhwU42",
        "colab_type": "code",
        "colab": {
          "base_uri": "https://localhost:8080/",
          "height": 432
        },
        "outputId": "2662413a-0d20-4412-fd8f-5dc5ba9e46e1"
      },
      "source": [
        "import pylab as pl\n",
        "pl.figure(figsize=(10, 6))\n",
        "target_names = y.unique()\n",
        "for c, i, target_name in zip('rbg', [0, 1, 2], target_names):\n",
        "  pl.scatter(pca_X[y_encoded==i, 0], pca_X[y_encoded==i, 1], c=c, label=target_name)\n",
        "pl.xlabel('Principle Component 1', fontsize=16)\n",
        "pl.ylabel('Principle Component 2', fontsize=16)\n",
        "pl.legend()\n",
        "pl.title('Clustering with PCA sklearn of IRIS Dataset', fontsize=20)"
      ],
      "execution_count": null,
      "outputs": [
        {
          "output_type": "execute_result",
          "data": {
            "text/plain": [
              "Text(0.5, 1.0, 'Clustering with PCA sklearn of IRIS Dataset')"
            ]
          },
          "metadata": {
            "tags": []
          },
          "execution_count": 126
        },
        {
          "output_type": "display_data",
          "data": {
            "image/png": "[encoded data removed]",
            "text/plain": [
              "<Figure size 720x432 with 1 Axes>"
            ]
          },
          "metadata": {
            "tags": [],
            "needs_background": "light"
          }
        }
      ]
    },
    {
      "cell_type": "code",
      "metadata": {
        "id": "uymqi7NCxjBy",
        "colab_type": "code",
        "colab": {}
      },
      "source": [
        ""
      ],
      "execution_count": null,
      "outputs": []
    }
  ]
}